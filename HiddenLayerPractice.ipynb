{
  "nbformat": 4,
  "nbformat_minor": 0,
  "metadata": {
    "colab": {
      "name": "HiddenLayerPractice.ipynb",
      "provenance": [],
      "collapsed_sections": [],
      "authorship_tag": "ABX9TyMLEjhmmuNJL9aru5o+2MmL",
      "include_colab_link": true
    },
    "kernelspec": {
      "name": "python3",
      "display_name": "Python 3"
    },
    "language_info": {
      "name": "python"
    }
  },
  "cells": [
    {
      "cell_type": "markdown",
      "metadata": {
        "id": "view-in-github",
        "colab_type": "text"
      },
      "source": [
        "<a href=\"https://colab.research.google.com/github/BeforeTheTeaCools/MachineLearningPractice/blob/main/HiddenLayerPractice.ipynb\" target=\"_parent\"><img src=\"https://colab.research.google.com/assets/colab-badge.svg\" alt=\"Open In Colab\"/></a>"
      ]
    },
    {
      "cell_type": "code",
      "metadata": {
        "id": "Dy2tiKW936Vt"
      },
      "source": [
        "#uses Boston house prices from 1978"
      ],
      "execution_count": null,
      "outputs": []
    },
    {
      "cell_type": "code",
      "metadata": {
        "id": "eh6uGuAO4qCb"
      },
      "source": [
        "#library\n",
        "import tensorflow as tf\n",
        "import pandas as pd"
      ],
      "execution_count": 18,
      "outputs": []
    },
    {
      "cell_type": "code",
      "metadata": {
        "colab": {
          "base_uri": "https://localhost:8080/",
          "height": 255
        },
        "id": "3UFNBfZ560P1",
        "outputId": "cc1743ea-417e-44b5-dee4-0685607f8bbb"
      },
      "source": [
        "#get file\n",
        "file = 'https://raw.githubusercontent.com/blackdew/tensorflow1/master/csv/boston.csv'\n",
        "Boston = pd.read_csv(file)\n",
        "print(Boston.columns)\n",
        "Boston.head()"
      ],
      "execution_count": 19,
      "outputs": [
        {
          "output_type": "stream",
          "text": [
            "Index(['crim', 'zn', 'indus', 'chas', 'nox', 'rm', 'age', 'dis', 'rad', 'tax',\n",
            "       'ptratio', 'b', 'lstat', 'medv'],\n",
            "      dtype='object')\n"
          ],
          "name": "stdout"
        },
        {
          "output_type": "execute_result",
          "data": {
            "text/html": [
              "<div>\n",
              "<style scoped>\n",
              "    .dataframe tbody tr th:only-of-type {\n",
              "        vertical-align: middle;\n",
              "    }\n",
              "\n",
              "    .dataframe tbody tr th {\n",
              "        vertical-align: top;\n",
              "    }\n",
              "\n",
              "    .dataframe thead th {\n",
              "        text-align: right;\n",
              "    }\n",
              "</style>\n",
              "<table border=\"1\" class=\"dataframe\">\n",
              "  <thead>\n",
              "    <tr style=\"text-align: right;\">\n",
              "      <th></th>\n",
              "      <th>crim</th>\n",
              "      <th>zn</th>\n",
              "      <th>indus</th>\n",
              "      <th>chas</th>\n",
              "      <th>nox</th>\n",
              "      <th>rm</th>\n",
              "      <th>age</th>\n",
              "      <th>dis</th>\n",
              "      <th>rad</th>\n",
              "      <th>tax</th>\n",
              "      <th>ptratio</th>\n",
              "      <th>b</th>\n",
              "      <th>lstat</th>\n",
              "      <th>medv</th>\n",
              "    </tr>\n",
              "  </thead>\n",
              "  <tbody>\n",
              "    <tr>\n",
              "      <th>0</th>\n",
              "      <td>0.00632</td>\n",
              "      <td>18.0</td>\n",
              "      <td>2.31</td>\n",
              "      <td>0</td>\n",
              "      <td>0.538</td>\n",
              "      <td>6.575</td>\n",
              "      <td>65.2</td>\n",
              "      <td>4.0900</td>\n",
              "      <td>1</td>\n",
              "      <td>296</td>\n",
              "      <td>15.3</td>\n",
              "      <td>396.90</td>\n",
              "      <td>4.98</td>\n",
              "      <td>24.0</td>\n",
              "    </tr>\n",
              "    <tr>\n",
              "      <th>1</th>\n",
              "      <td>0.02731</td>\n",
              "      <td>0.0</td>\n",
              "      <td>7.07</td>\n",
              "      <td>0</td>\n",
              "      <td>0.469</td>\n",
              "      <td>6.421</td>\n",
              "      <td>78.9</td>\n",
              "      <td>4.9671</td>\n",
              "      <td>2</td>\n",
              "      <td>242</td>\n",
              "      <td>17.8</td>\n",
              "      <td>396.90</td>\n",
              "      <td>9.14</td>\n",
              "      <td>21.6</td>\n",
              "    </tr>\n",
              "    <tr>\n",
              "      <th>2</th>\n",
              "      <td>0.02729</td>\n",
              "      <td>0.0</td>\n",
              "      <td>7.07</td>\n",
              "      <td>0</td>\n",
              "      <td>0.469</td>\n",
              "      <td>7.185</td>\n",
              "      <td>61.1</td>\n",
              "      <td>4.9671</td>\n",
              "      <td>2</td>\n",
              "      <td>242</td>\n",
              "      <td>17.8</td>\n",
              "      <td>392.83</td>\n",
              "      <td>4.03</td>\n",
              "      <td>34.7</td>\n",
              "    </tr>\n",
              "    <tr>\n",
              "      <th>3</th>\n",
              "      <td>0.03237</td>\n",
              "      <td>0.0</td>\n",
              "      <td>2.18</td>\n",
              "      <td>0</td>\n",
              "      <td>0.458</td>\n",
              "      <td>6.998</td>\n",
              "      <td>45.8</td>\n",
              "      <td>6.0622</td>\n",
              "      <td>3</td>\n",
              "      <td>222</td>\n",
              "      <td>18.7</td>\n",
              "      <td>394.63</td>\n",
              "      <td>2.94</td>\n",
              "      <td>33.4</td>\n",
              "    </tr>\n",
              "    <tr>\n",
              "      <th>4</th>\n",
              "      <td>0.06905</td>\n",
              "      <td>0.0</td>\n",
              "      <td>2.18</td>\n",
              "      <td>0</td>\n",
              "      <td>0.458</td>\n",
              "      <td>7.147</td>\n",
              "      <td>54.2</td>\n",
              "      <td>6.0622</td>\n",
              "      <td>3</td>\n",
              "      <td>222</td>\n",
              "      <td>18.7</td>\n",
              "      <td>396.90</td>\n",
              "      <td>5.33</td>\n",
              "      <td>36.2</td>\n",
              "    </tr>\n",
              "  </tbody>\n",
              "</table>\n",
              "</div>"
            ],
            "text/plain": [
              "      crim    zn  indus  chas    nox  ...  tax  ptratio       b  lstat  medv\n",
              "0  0.00632  18.0   2.31     0  0.538  ...  296     15.3  396.90   4.98  24.0\n",
              "1  0.02731   0.0   7.07     0  0.469  ...  242     17.8  396.90   9.14  21.6\n",
              "2  0.02729   0.0   7.07     0  0.469  ...  242     17.8  392.83   4.03  34.7\n",
              "3  0.03237   0.0   2.18     0  0.458  ...  222     18.7  394.63   2.94  33.4\n",
              "4  0.06905   0.0   2.18     0  0.458  ...  222     18.7  396.90   5.33  36.2\n",
              "\n",
              "[5 rows x 14 columns]"
            ]
          },
          "metadata": {
            "tags": []
          },
          "execution_count": 19
        }
      ]
    },
    {
      "cell_type": "code",
      "metadata": {
        "colab": {
          "base_uri": "https://localhost:8080/"
        },
        "id": "oD3dHziy7M2i",
        "outputId": "929854a5-2764-4d1b-dca9-8b6a70a8a85c"
      },
      "source": [
        "ind = Boston[['crim', 'zn', 'indus', 'chas', 'nox', 'rm', 'age', 'dis', 'rad', 'tax',\n",
        "       'ptratio', 'b', 'lstat']]\n",
        "dep = Boston[['medv']]\n",
        "print(ind.shape, dep.shape)"
      ],
      "execution_count": 20,
      "outputs": [
        {
          "output_type": "stream",
          "text": [
            "(506, 13) (506, 1)\n"
          ],
          "name": "stdout"
        }
      ]
    },
    {
      "cell_type": "code",
      "metadata": {
        "id": "h6X_9CO67mJ6"
      },
      "source": [
        "#make model\n",
        "X = tf.keras.layers.Input(shape=[13])\n",
        "H = tf.keras.layers.Dense(10, activation='swish')(X) #using hidden layers allows for more accurate model\n",
        "Y = tf.keras.layers.Dense(1)(H)\n",
        "model = tf.keras.models.Model(X, Y)\n",
        "model.compile(loss='mse')"
      ],
      "execution_count": 23,
      "outputs": []
    },
    {
      "cell_type": "code",
      "metadata": {
        "colab": {
          "base_uri": "https://localhost:8080/"
        },
        "id": "S4gj02I6rWJl",
        "outputId": "8e182c07-7b14-496c-8991-c1ff67d08993"
      },
      "source": [
        "model.summary()"
      ],
      "execution_count": 24,
      "outputs": [
        {
          "output_type": "stream",
          "text": [
            "Model: \"model_4\"\n",
            "_________________________________________________________________\n",
            "Layer (type)                 Output Shape              Param #   \n",
            "=================================================================\n",
            "input_5 (InputLayer)         [(None, 13)]              0         \n",
            "_________________________________________________________________\n",
            "dense_7 (Dense)              (None, 10)                140       \n",
            "_________________________________________________________________\n",
            "dense_8 (Dense)              (None, 1)                 11        \n",
            "=================================================================\n",
            "Total params: 151\n",
            "Trainable params: 151\n",
            "Non-trainable params: 0\n",
            "_________________________________________________________________\n"
          ],
          "name": "stdout"
        }
      ]
    },
    {
      "cell_type": "code",
      "metadata": {
        "colab": {
          "base_uri": "https://localhost:8080/"
        },
        "id": "_F22LMkI8EuA",
        "outputId": "35fe5a64-21b2-43fd-cfc1-0c97a6a607c1"
      },
      "source": [
        "#fit model\n",
        "model.fit(ind, dep, epochs=1000, verbose=0)\n",
        "model.fit(ind, dep, epochs=10)"
      ],
      "execution_count": 26,
      "outputs": [
        {
          "output_type": "stream",
          "text": [
            "Epoch 1/10\n",
            "16/16 [==============================] - 0s 2ms/step - loss: 16.0300\n",
            "Epoch 2/10\n",
            "16/16 [==============================] - 0s 1ms/step - loss: 14.5728\n",
            "Epoch 3/10\n",
            "16/16 [==============================] - 0s 1ms/step - loss: 15.3052\n",
            "Epoch 4/10\n",
            "16/16 [==============================] - 0s 1ms/step - loss: 15.4978\n",
            "Epoch 5/10\n",
            "16/16 [==============================] - 0s 2ms/step - loss: 15.8343\n",
            "Epoch 6/10\n",
            "16/16 [==============================] - 0s 2ms/step - loss: 15.1854\n",
            "Epoch 7/10\n",
            "16/16 [==============================] - 0s 2ms/step - loss: 15.4188\n",
            "Epoch 8/10\n",
            "16/16 [==============================] - 0s 2ms/step - loss: 15.0061\n",
            "Epoch 9/10\n",
            "16/16 [==============================] - 0s 2ms/step - loss: 14.8497\n",
            "Epoch 10/10\n",
            "16/16 [==============================] - 0s 1ms/step - loss: 14.8284\n"
          ],
          "name": "stdout"
        },
        {
          "output_type": "execute_result",
          "data": {
            "text/plain": [
              "<tensorflow.python.keras.callbacks.History at 0x7fbfd9120810>"
            ]
          },
          "metadata": {
            "tags": []
          },
          "execution_count": 26
        }
      ]
    },
    {
      "cell_type": "code",
      "metadata": {
        "colab": {
          "base_uri": "https://localhost:8080/"
        },
        "id": "XkUcGp7a8JRq",
        "outputId": "fbacd206-9597-4f26-eae3-621daa729fed"
      },
      "source": [
        "#use model\n",
        "print(model.predict(ind[:5]))\n",
        "print(dep[:5])"
      ],
      "execution_count": 27,
      "outputs": [
        {
          "output_type": "stream",
          "text": [
            "[[26.779621]\n",
            " [21.347435]\n",
            " [26.054583]\n",
            " [31.867325]\n",
            " [31.05384 ]]\n",
            "   medv\n",
            "0  24.0\n",
            "1  21.6\n",
            "2  34.7\n",
            "3  33.4\n",
            "4  36.2\n"
          ],
          "name": "stdout"
        }
      ]
    },
    {
      "cell_type": "code",
      "metadata": {
        "colab": {
          "base_uri": "https://localhost:8080/"
        },
        "id": "eBKf3-Xa889H",
        "outputId": "0a3ba2d8-db8a-4da2-e479-e119a9e091de"
      },
      "source": [
        "#weights\n",
        "model.get_weights()"
      ],
      "execution_count": 28,
      "outputs": [
        {
          "output_type": "execute_result",
          "data": {
            "text/plain": [
              "[array([[-2.1119386e-02,  1.6985369e-01,  8.5070348e-01,  5.0247163e-01,\n",
              "         -2.2071455e-01,  5.9642326e-02, -2.2800763e-01, -1.0421535e-01,\n",
              "          3.3912760e-01, -1.4925805e-01],\n",
              "        [-3.5777450e-01, -6.8668157e-02,  3.3175814e-01,  1.8479013e-01,\n",
              "         -2.8540158e-01, -5.0506824e-01, -3.3289570e-01, -3.9443919e-01,\n",
              "         -8.3663119e-03,  2.7570665e-02],\n",
              "        [-4.6583277e-01,  1.3869846e-01, -5.8939296e-01, -3.6335731e-01,\n",
              "         -4.6266726e-01,  3.2369980e-01,  5.3787464e-01, -1.0678986e-01,\n",
              "         -1.0176826e+00, -1.7323229e-01],\n",
              "        [ 4.9604756e-01,  2.8413177e-01,  3.5525956e+00,  3.0270374e-01,\n",
              "         -1.0520577e-02, -8.9643347e-01,  3.4364608e-01,  4.6643829e-01,\n",
              "          1.8330104e+00, -2.9174101e-01],\n",
              "        [-3.3660907e-01, -4.5432615e-01, -6.7672598e-01, -1.7420733e-01,\n",
              "         -9.1290939e-01, -9.5692687e-02,  5.0592694e-02, -2.7616844e-01,\n",
              "          3.6353269e-03, -3.9187196e-01],\n",
              "        [-2.8971791e-02,  4.9640745e-01, -2.3693545e+00,  1.3871247e-01,\n",
              "         -1.2841713e-01, -2.0005827e+00,  2.3695765e+00,  2.4631009e+00,\n",
              "          1.9575619e+00, -8.6439639e-02],\n",
              "        [-9.7026229e-03, -4.2590392e-01,  5.0792772e-01,  2.2817320e-01,\n",
              "          3.7843472e-01,  6.0128298e-02, -1.8764076e-01,  1.6785817e-01,\n",
              "         -5.0936367e-02, -5.9795171e-02],\n",
              "        [ 4.5005023e-01, -3.3908960e-01, -2.4213262e+00, -3.7442988e-01,\n",
              "         -1.7692839e+00,  5.7508796e-01, -2.4575616e-01, -1.6036507e-01,\n",
              "         -4.7465441e-01,  3.2796329e-01],\n",
              "        [ 2.2174346e-01,  3.8342834e-02,  9.2104979e-02,  4.2610085e-01,\n",
              "          1.4089181e-01,  2.2764240e-01,  3.8518789e-01,  9.3997777e-02,\n",
              "         -2.0931797e-01,  2.7356547e-01],\n",
              "        [-3.9945891e-01, -3.2814717e-01,  1.3594395e-01, -3.2764524e-01,\n",
              "          4.1271064e-02,  1.3944006e-01, -1.5941197e-03,  1.9915193e-01,\n",
              "         -7.3170729e-02, -3.5767657e-01],\n",
              "        [ 2.0760357e-02, -1.8369931e-01, -9.3524687e-02, -1.5770119e-01,\n",
              "         -7.6708847e-01,  5.2000511e-01,  1.4725745e-01, -9.3939066e-02,\n",
              "         -9.2137563e-01,  2.0537859e-01],\n",
              "        [-3.3010116e-01,  3.1729937e-02, -3.0195794e-01, -4.5907190e-01,\n",
              "         -1.4858317e-02,  2.3121548e-01,  2.0333324e-01,  2.0969565e-01,\n",
              "          8.4164895e-02, -3.6582857e-02],\n",
              "        [-8.6196452e-02, -1.5743256e-01,  1.0276965e-01,  2.2759157e-01,\n",
              "         -2.1152751e+00,  7.5392667e-03, -7.6877296e-01,  3.4598476e-01,\n",
              "         -1.8485929e-01,  5.0154942e-01]], dtype=float32),\n",
              " array([ 0.0000000e+00,  8.9870095e-23,  4.0392062e-01,  0.0000000e+00,\n",
              "         1.8708843e-01, -9.5969635e-01,  1.2102381e+00,  9.2095405e-01,\n",
              "         9.5292367e-02, -2.1361708e-23], dtype=float32),\n",
              " array([[ 0.07029617],\n",
              "        [ 0.06161559],\n",
              "        [ 0.08472592],\n",
              "        [-0.0741415 ],\n",
              "        [ 0.96175367],\n",
              "        [-0.7305941 ],\n",
              "        [ 0.48952574],\n",
              "        [ 0.4761824 ],\n",
              "        [ 1.1712475 ],\n",
              "        [-0.56205297]], dtype=float32),\n",
              " array([0.9454522], dtype=float32)]"
            ]
          },
          "metadata": {
            "tags": []
          },
          "execution_count": 28
        }
      ]
    }
  ]
}