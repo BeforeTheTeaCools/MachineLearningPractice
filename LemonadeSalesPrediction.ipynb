{
  "nbformat": 4,
  "nbformat_minor": 0,
  "metadata": {
    "colab": {
      "name": "LemonadeSalesPrediction.ipynb",
      "provenance": [],
      "authorship_tag": "ABX9TyMKU1qutXIZfht+6jHxNYoB",
      "include_colab_link": true
    },
    "kernelspec": {
      "name": "python3",
      "display_name": "Python 3"
    },
    "language_info": {
      "name": "python"
    }
  },
  "cells": [
    {
      "cell_type": "markdown",
      "metadata": {
        "id": "view-in-github",
        "colab_type": "text"
      },
      "source": [
        "<a href=\"https://colab.research.google.com/github/BeforeTheTeaCools/MachineLearningPractice/blob/main/LemonadeSalesPrediction.ipynb\" target=\"_parent\"><img src=\"https://colab.research.google.com/assets/colab-badge.svg\" alt=\"Open In Colab\"/></a>"
      ]
    },
    {
      "cell_type": "code",
      "metadata": {
        "id": "66a2XJEw0gIV"
      },
      "source": [
        "#library\n",
        "import tensorflow as tf\n",
        "import pandas as pd"
      ],
      "execution_count": null,
      "outputs": []
    },
    {
      "cell_type": "code",
      "metadata": {
        "colab": {
          "base_uri": "https://localhost:8080/",
          "height": 204
        },
        "id": "zqFszwjJMwbV",
        "outputId": "5b5e82fe-91a2-4c51-fc6b-20a1aa1766d9"
      },
      "source": [
        "#data\n",
        "file = 'https://raw.githubusercontent.com/blackdew/tensorflow1/master/csv/lemonade.csv'\n",
        "data = pd.read_csv(file)\n",
        "data.head() #to check if it read the file correctly"
      ],
      "execution_count": null,
      "outputs": [
        {
          "output_type": "execute_result",
          "data": {
            "text/html": [
              "<div>\n",
              "<style scoped>\n",
              "    .dataframe tbody tr th:only-of-type {\n",
              "        vertical-align: middle;\n",
              "    }\n",
              "\n",
              "    .dataframe tbody tr th {\n",
              "        vertical-align: top;\n",
              "    }\n",
              "\n",
              "    .dataframe thead th {\n",
              "        text-align: right;\n",
              "    }\n",
              "</style>\n",
              "<table border=\"1\" class=\"dataframe\">\n",
              "  <thead>\n",
              "    <tr style=\"text-align: right;\">\n",
              "      <th></th>\n",
              "      <th>온도</th>\n",
              "      <th>판매량</th>\n",
              "    </tr>\n",
              "  </thead>\n",
              "  <tbody>\n",
              "    <tr>\n",
              "      <th>0</th>\n",
              "      <td>20</td>\n",
              "      <td>40</td>\n",
              "    </tr>\n",
              "    <tr>\n",
              "      <th>1</th>\n",
              "      <td>21</td>\n",
              "      <td>42</td>\n",
              "    </tr>\n",
              "    <tr>\n",
              "      <th>2</th>\n",
              "      <td>22</td>\n",
              "      <td>44</td>\n",
              "    </tr>\n",
              "    <tr>\n",
              "      <th>3</th>\n",
              "      <td>23</td>\n",
              "      <td>46</td>\n",
              "    </tr>\n",
              "    <tr>\n",
              "      <th>4</th>\n",
              "      <td>24</td>\n",
              "      <td>48</td>\n",
              "    </tr>\n",
              "  </tbody>\n",
              "</table>\n",
              "</div>"
            ],
            "text/plain": [
              "   온도  판매량\n",
              "0  20   40\n",
              "1  21   42\n",
              "2  22   44\n",
              "3  23   46\n",
              "4  24   48"
            ]
          },
          "metadata": {
            "tags": []
          },
          "execution_count": 3
        }
      ]
    },
    {
      "cell_type": "code",
      "metadata": {
        "colab": {
          "base_uri": "https://localhost:8080/"
        },
        "id": "zPr5JwvnNJpj",
        "outputId": "a3218408-12ad-4a65-ffbe-a2909acc9266"
      },
      "source": [
        "# independent, dependent variables\n",
        "ind = data[['온도']]\n",
        "dep = data[['판매량']]\n",
        "print(ind.shape, dep.shape) "
      ],
      "execution_count": null,
      "outputs": [
        {
          "output_type": "stream",
          "text": [
            "(6, 1) (6, 1)\n"
          ],
          "name": "stdout"
        }
      ]
    },
    {
      "cell_type": "code",
      "metadata": {
        "id": "EK24Kr0GNcYe"
      },
      "source": [
        "#make model\n",
        "X = tf.keras.layers.Input(shape=[1]) #1 b/c there's only one independent variable\n",
        "Y = tf.keras.layers.Dense(1)(X)\n",
        "model = tf.keras.models.Model(X, Y)\n",
        "model.compile(loss='mse')"
      ],
      "execution_count": null,
      "outputs": []
    },
    {
      "cell_type": "code",
      "metadata": {
        "colab": {
          "base_uri": "https://localhost:8080/"
        },
        "id": "C7lae_aQNxuL",
        "outputId": "375cf65a-0adc-4095-e8a8-43fd5cbce839"
      },
      "source": [
        "#fit model\n",
        "#model.fit(ind, dep, epochs=10000, verbose=0) #verbose makes it so you don't see the thousands of lines of epoch\n",
        "model.fit(ind, dep, epochs=10)"
      ],
      "execution_count": null,
      "outputs": [
        {
          "output_type": "stream",
          "text": [
            "Epoch 1/10\n",
            "1/1 [==============================] - 0s 7ms/step - loss: 2.4652e-04\n",
            "Epoch 2/10\n",
            "1/1 [==============================] - 0s 7ms/step - loss: 2.4650e-04\n",
            "Epoch 3/10\n",
            "1/1 [==============================] - 0s 6ms/step - loss: 2.4649e-04\n",
            "Epoch 4/10\n",
            "1/1 [==============================] - 0s 4ms/step - loss: 2.4634e-04\n",
            "Epoch 5/10\n",
            "1/1 [==============================] - 0s 7ms/step - loss: 2.4622e-04\n",
            "Epoch 6/10\n",
            "1/1 [==============================] - 0s 5ms/step - loss: 2.4604e-04\n",
            "Epoch 7/10\n",
            "1/1 [==============================] - 0s 4ms/step - loss: 2.4585e-04\n",
            "Epoch 8/10\n",
            "1/1 [==============================] - 0s 4ms/step - loss: 2.4579e-04\n",
            "Epoch 9/10\n",
            "1/1 [==============================] - 0s 6ms/step - loss: 2.4575e-04\n",
            "Epoch 10/10\n",
            "1/1 [==============================] - 0s 6ms/step - loss: 2.4565e-04\n"
          ],
          "name": "stdout"
        },
        {
          "output_type": "execute_result",
          "data": {
            "text/plain": [
              "<tensorflow.python.keras.callbacks.History at 0x7f27047b0f90>"
            ]
          },
          "metadata": {
            "tags": []
          },
          "execution_count": 12
        }
      ]
    },
    {
      "cell_type": "code",
      "metadata": {
        "colab": {
          "base_uri": "https://localhost:8080/"
        },
        "id": "qRMOW98FN2i2",
        "outputId": "a1afebb6-ad16-49a4-893f-9d7ed0d9c0e2"
      },
      "source": [
        "#use the model\n",
        "model.predict(ind)"
      ],
      "execution_count": null,
      "outputs": [
        {
          "output_type": "execute_result",
          "data": {
            "text/plain": [
              "array([[40.00534 ],\n",
              "       [41.998806],\n",
              "       [43.992268],\n",
              "       [45.985733],\n",
              "       [47.9792  ],\n",
              "       [49.972664]], dtype=float32)"
            ]
          },
          "metadata": {
            "tags": []
          },
          "execution_count": 18
        }
      ]
    },
    {
      "cell_type": "code",
      "metadata": {
        "id": "hjmy4LmTOvpR",
        "colab": {
          "base_uri": "https://localhost:8080/",
          "height": 235
        },
        "outputId": "69df1197-249a-4ebf-a47f-00678071da24"
      },
      "source": [
        "dep"
      ],
      "execution_count": null,
      "outputs": [
        {
          "output_type": "execute_result",
          "data": {
            "text/html": [
              "<div>\n",
              "<style scoped>\n",
              "    .dataframe tbody tr th:only-of-type {\n",
              "        vertical-align: middle;\n",
              "    }\n",
              "\n",
              "    .dataframe tbody tr th {\n",
              "        vertical-align: top;\n",
              "    }\n",
              "\n",
              "    .dataframe thead th {\n",
              "        text-align: right;\n",
              "    }\n",
              "</style>\n",
              "<table border=\"1\" class=\"dataframe\">\n",
              "  <thead>\n",
              "    <tr style=\"text-align: right;\">\n",
              "      <th></th>\n",
              "      <th>판매량</th>\n",
              "    </tr>\n",
              "  </thead>\n",
              "  <tbody>\n",
              "    <tr>\n",
              "      <th>0</th>\n",
              "      <td>40</td>\n",
              "    </tr>\n",
              "    <tr>\n",
              "      <th>1</th>\n",
              "      <td>42</td>\n",
              "    </tr>\n",
              "    <tr>\n",
              "      <th>2</th>\n",
              "      <td>44</td>\n",
              "    </tr>\n",
              "    <tr>\n",
              "      <th>3</th>\n",
              "      <td>46</td>\n",
              "    </tr>\n",
              "    <tr>\n",
              "      <th>4</th>\n",
              "      <td>48</td>\n",
              "    </tr>\n",
              "    <tr>\n",
              "      <th>5</th>\n",
              "      <td>50</td>\n",
              "    </tr>\n",
              "  </tbody>\n",
              "</table>\n",
              "</div>"
            ],
            "text/plain": [
              "   판매량\n",
              "0   40\n",
              "1   42\n",
              "2   44\n",
              "3   46\n",
              "4   48\n",
              "5   50"
            ]
          },
          "metadata": {
            "tags": []
          },
          "execution_count": 19
        }
      ]
    },
    {
      "cell_type": "code",
      "metadata": {
        "colab": {
          "base_uri": "https://localhost:8080/"
        },
        "id": "6JTVE5qSOhL0",
        "outputId": "9c19d0c7-6b83-4514-999b-81994ba9fc70"
      },
      "source": [
        "model.predict([[15]])"
      ],
      "execution_count": null,
      "outputs": [
        {
          "output_type": "execute_result",
          "data": {
            "text/plain": [
              "array([[30.038015]], dtype=float32)"
            ]
          },
          "metadata": {
            "tags": []
          },
          "execution_count": 16
        }
      ]
    }
  ]
}